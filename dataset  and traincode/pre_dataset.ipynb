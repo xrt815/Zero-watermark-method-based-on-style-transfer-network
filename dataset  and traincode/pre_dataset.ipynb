{
 "cells": [
  {
   "cell_type": "code",
   "execution_count": 1,
   "metadata": {},
   "outputs": [],
   "source": [
    "import os\n",
    "import argparse\n",
    "import numpy as np\n",
    "import torchvision\n",
    "import torch\n",
    "import torch.nn as nn\n",
    "import torch.optim as optim\n",
    "from torch.autograd import Variable\n",
    "from torch.utils.data import DataLoader\n",
    "from torch.utils.data import TensorDataset,DataLoader\n",
    "\n",
    "import torchvision.utils as utils\n",
    "import torchvision.transforms as transforms\n",
    "import torchvision.models as models\n",
    "\n",
    "\n",
    "import copy\n",
    "import glob\n",
    "import torch.utils.data as udata\n",
    "import h5py\n",
    "import cv2\n",
    "import random\n",
    "import pywt\n",
    "import matplotlib.pyplot as plt\n",
    "from PIL import Image\n",
    "import math\n",
    "from skimage.measure.simple_metrics import compare_psnr\n",
    "import scipy.io as sio\n",
    "os.environ[\"KMP_DUPLICATE_LIB_OK\"]=\"TRUE\" #Anaconda内的一个.dll和pytorch的一个libiomp5md.dll冲突了，仅需要允许备份存在即可\n",
    "plt.rcParams['font.sans-serif'] = [u'SimHei'] #正常输出中文字符 黑体\n",
    "plt.rcParams['axes.unicode_minus'] = False #正常输出正负号"
   ]
  },
  {
   "cell_type": "code",
   "execution_count": 2,
   "metadata": {},
   "outputs": [],
   "source": [
    "use_cuda = torch.cuda.is_available()\n",
    "dtype = torch.cuda.FloatTensor if use_cuda else torch.FloatTensor #可以用gpu的话，数据类型是torch.cuda.FloatTensor 否则使用torch.FloatTensor\n",
    "device=torch.device(\"cuda\" if torch.cuda.is_available() else \"cpu\")\n",
    "# desired size of the output image\n",
    "imsize = 128  # use small size if no gpu 图片大小，这是学长的看法，我觉得都可以用128\n",
    "\n",
    "#有imsize,imsize 但应该不会改变\n",
    "loader = transforms.Compose([ \n",
    "    transforms.Resize([imsize, imsize]),  # scale imported image 变换图片为对应大小\n",
    "    transforms.ToTensor()])  # transform it into a torch tensor  转化为张量\n",
    "def image_loader(image_name): #数据加载 读进图片进行加载\n",
    "    image = Image.open(image_name)  #打开图片\n",
    "    image = Variable(loader(image)) #图片从张量变成变量，Variable是网络参数优化的必须数据类型，可以对梯度进行计算保存\n",
    "    # fake batch dimension required to fit network's input dimensions\n",
    "    image = image.unsqueeze(0) #在第一维度之后再加一个维度 ？不知道为啥\n",
    "    return image\n"
   ]
  },
  {
   "cell_type": "code",
   "execution_count": 3,
   "metadata": {},
   "outputs": [],
   "source": [
    "LOAD_PATH = \"./l2-1\" #加载数据库数据路径\n",
    "# STYLE_PATH = \"1_zero.jpg\""
   ]
  },
  {
   "cell_type": "code",
   "execution_count": 4,
   "metadata": {},
   "outputs": [],
   "source": [
    "img_lst = os.listdir(LOAD_PATH) #\n",
    "img_lst.sort() #排序路径下所有文件或文件夹"
   ]
  },
  {
   "cell_type": "code",
   "execution_count": 5,
   "metadata": {},
   "outputs": [],
   "source": [
    "#访问路径下所有图片，并且把图片和图片对应名称加入这个列表\n",
    "res_lst = []\n",
    "name_lst = []\n",
    "# a = image_loader(STYLE_PATH).type(dtype).to(device)\n",
    "for img_name in img_lst:\n",
    "    if os.path.splitext(img_name)[-1] != '.png':\n",
    "        continue\n",
    "    img_path = os.path.join(LOAD_PATH, img_name)#加入图片\n",
    "    img = image_loader(img_path).type(dtype).to(device)  #图片加载\n",
    "\n",
    "    \n",
    "    res_lst.append(img.to('cpu').numpy()) #图片资源列表 \n",
    "    name_lst.append(img_name) #图片名称列表\n"
   ]
  },
  {
   "cell_type": "code",
   "execution_count": 6,
   "metadata": {},
   "outputs": [],
   "source": [
    "res = np.asarray(res_lst) # 转化为数组\n",
    "res = res.squeeze() #加入一个维度\n",
    "name_lst = np.asarray(name_lst) #转化为数组\n",
    "mat = {'img':res, 'img_name':name_lst}"
   ]
  },
  {
   "cell_type": "code",
   "execution_count": 7,
   "metadata": {},
   "outputs": [],
   "source": [
    "sio.savemat('l2-1', mat)"
   ]
  },
  {
   "cell_type": "code",
   "execution_count": null,
   "metadata": {},
   "outputs": [],
   "source": []
  },
  {
   "cell_type": "code",
   "execution_count": null,
   "metadata": {},
   "outputs": [],
   "source": []
  },
  {
   "cell_type": "code",
   "execution_count": null,
   "metadata": {},
   "outputs": [],
   "source": []
  },
  {
   "cell_type": "code",
   "execution_count": null,
   "metadata": {},
   "outputs": [],
   "source": []
  }
 ],
 "metadata": {
  "anaconda-cloud": {},
  "kernelspec": {
   "display_name": "Python 3",
   "language": "python",
   "name": "python3"
  },
  "language_info": {
   "codemirror_mode": {
    "name": "ipython",
    "version": 3
   },
   "file_extension": ".py",
   "mimetype": "text/x-python",
   "name": "python",
   "nbconvert_exporter": "python",
   "pygments_lexer": "ipython3",
   "version": "3.6.15"
  }
 },
 "nbformat": 4,
 "nbformat_minor": 4
}
